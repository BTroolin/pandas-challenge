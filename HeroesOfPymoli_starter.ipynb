{
 "cells": [
  {
   "cell_type": "markdown",
   "metadata": {},
   "source": [
    "### Note\n",
    "* Instructions have been included for each segment. You do not have to follow them exactly, but they are included to help you think through the steps."
   ]
  },
  {
   "cell_type": "code",
   "execution_count": 1,
   "metadata": {},
   "outputs": [],
   "source": [
    "# Dependencies and Setup\n",
    "import pandas as pd\n",
    "import csv\n",
    "# File to Load (Remember to Change These)\n",
    "file_to_load = \"Resources/purchase_data.csv\"\n",
    "\n",
    "# Read Purchasing File and store into Pandas data frame\n",
    "purchase_data = pd.read_csv(file_to_load)\n",
    "purchase_data.head()\n"
   ]
  },
  {
   "cell_type": "markdown",
   "metadata": {},
   "source": [
    "## Player Count"
   ]
  },
  {
   "cell_type": "markdown",
   "metadata": {},
   "source": [
    "* Display the total number of players\n"
   ]
  },
  {
   "cell_type": "code",
   "execution_count": 2,
   "metadata": {},
   "outputs": [],
   "source": [
    "purchase_data['SN'].nunique()\n",
    "total_players = purchase_data['SN'].nunique()\n",
    "print(total_players)"
   ]
  },
  {
   "cell_type": "markdown",
   "metadata": {},
   "source": [
    "## Purchasing Analysis (Total)"
   ]
  },
  {
   "cell_type": "markdown",
   "metadata": {},
   "source": [
    "* Run basic calculations to obtain number of unique items, average price, etc.\n",
    "\n",
    "\n",
    "* Create a summary data frame to hold the results\n",
    "\n",
    "\n",
    "* Optional: give the displayed data cleaner formatting\n",
    "\n",
    "\n",
    "* Display the summary data frame\n"
   ]
  },
  {
   "cell_type": "code",
   "execution_count": 3,
   "metadata": {
    "scrolled": true
   },
   "outputs": [],
   "source": [
    "unique_items = purchase_data['Item ID'].nunique()\n",
    "uniques = purchase_data['Item ID'].unique()\n",
    "\n",
    "unique_df = purchase_data.loc[uniques]\n",
    "avg_price = unique_df[\"Price\"].mean()\n",
    "total_revenue = purchase_data[\"Price\"].sum()\n",
    "total_purchases = purchase_data[\"Purchase ID\"].count()\n",
    "#avg_df = pd.DataFrame[avg_price]\n",
    "#total_purchases\n",
    "#avg_price\n",
    "#total_revenue\n",
    "#unique_df\n",
    "summary_df = pd.DataFrame([[unique_items, avg_price, total_revenue, total_purchases]], index=['Value'],\n",
    "                         columns=['Uniques', 'Average Price $', 'Total Revenue $', 'Total Purchases'])\n",
    "#summary_df.columns = [\"Uniques\", \"Average Price\", \"Total Revenue\", \"Total Purchases\"]\n",
    "summary_df\n",
    "#unique_df"
   ]
  },
  {
   "cell_type": "markdown",
   "metadata": {},
   "source": [
    "## Gender Demographics"
   ]
  },
  {
   "cell_type": "markdown",
   "metadata": {},
   "source": [
    "* Percentage and Count of Male Players\n",
    "\n",
    "\n",
    "* Percentage and Count of Female Players\n",
    "\n",
    "\n",
    "* Percentage and Count of Other / Non-Disclosed\n",
    "\n",
    "\n"
   ]
  },
  {
   "cell_type": "code",
   "execution_count": 4,
   "metadata": {},
   "outputs": [],
   "source": [
    "#dataframe to hold count results\n",
    "gender_df = pd.DataFrame(purchase_data[\"Gender\"].value_counts())\n",
    "gender_df\n",
    "\n",
    "percentage_of_players = (purchase_data[\"Gender\"].value_counts()/(purchase_data[\"SN\"].nunique()))*100\n",
    "percentage_of_players\n",
    "\n",
    "# Calculations performed and added into Data Frame as a new column\n",
    "gender_df[\"Percentage of Players\"] = percentage_of_players\n",
    "gender_df[\"Percentage of Players\"] = gender_df[\"Percentage of Players\"].map(\"{:,.2f}%\".format)\n",
    "gender_df\n",
    "\n",
    "# Change the order of the columns \n",
    "order_gender_df = gender_df[[\"Percentage of Players\", \"Gender\"]]\n",
    "order_gender_df\n",
    "\n",
    "# Rename the column \"Gender\" to \"Total Counts\" using .rename(columns={})\n",
    "fin_gender_df = order_gender_df.rename(columns={\"Gender\":\"Total Count\"})\n",
    "fin_gender_df"
   ]
  },
  {
   "cell_type": "markdown",
   "metadata": {},
   "source": [
    "\n",
    "## Purchasing Analysis (Gender)"
   ]
  },
  {
   "cell_type": "markdown",
   "metadata": {},
   "source": [
    "* Run basic calculations to obtain purchase count, avg. purchase price, avg. purchase total per person etc. by gender\n",
    "\n",
    "\n",
    "\n",
    "\n",
    "* Create a summary data frame to hold the results\n",
    "\n",
    "\n",
    "* Optional: give the displayed data cleaner formatting\n",
    "\n",
    "\n",
    "* Display the summary data frame"
   ]
  },
  {
   "cell_type": "code",
   "execution_count": 5,
   "metadata": {},
   "outputs": [],
   "source": [
    "gender_groups = purchase_data.groupby([\"Gender\"])\n",
    "print(gender_groups)\n",
    "#gender_groups[\"Purchase ID\"].count().head()\n",
    "\n",
    "#purchases by gender \n",
    "total_value = gender_groups[\"Price\"].sum()\n",
    "total_count = gender_groups[\"Price\"].count()\n",
    "#total_value.head()\n",
    "total_cleaned = total_value.map(\"${:,.2f}\".format)\n",
    "#total_cleaned.head()\n",
    "\n",
    "#average price by gender\n",
    "average_gender = gender_groups[\"Price\"].mean()\n",
    "#average_gender.head()\n",
    "average_gender_clean = average_gender.map(\"${:,.2f}\".format)\n",
    "average_gender_clean.head()\n",
    "\n",
    "#normalize data by dividing total purchases by gender count\n",
    "normalized_gender = total_value/total_count\n",
    "normalized_gender"
   ]
  },
  {
   "cell_type": "markdown",
   "metadata": {},
   "source": [
    "## Age Demographics"
   ]
  },
  {
   "cell_type": "markdown",
   "metadata": {},
   "source": [
    "* Establish bins for ages\n",
    "\n",
    "\n",
    "* Categorize the existing players using the age bins. Hint: use pd.cut()\n",
    "\n",
    "\n",
    "* Calculate the numbers and percentages by age group\n",
    "\n",
    "\n",
    "* Create a summary data frame to hold the results\n",
    "\n",
    "\n",
    "* Optional: round the percentage column to two decimal points\n",
    "\n",
    "\n",
    "* Display Age Demographics Table\n"
   ]
  },
  {
   "cell_type": "code",
   "execution_count": 6,
   "metadata": {},
   "outputs": [],
   "source": [
    "age_bins = [0, 10, 15, 20, 25, 30 , 35, 40, 100]\n",
    "\n",
    "group_names = [\"<10\", \"10-15\", \"16-20\", \"21-25\", \"26-30\", \"31-35\", \"36-40\", \"40+\"]\n",
    "\n",
    "age_groups_df = purchase_data\n",
    "age_groups_df[\"Age Bins\"] = pd.cut(age_groups_df[\"Age\"], age_bins, labels=group_names)\n",
    "#age_groups_df\n",
    "\n",
    "age_groups_df = age_groups_df.groupby(\"Age Bins\")\n",
    "#age_groups_df.count()\n",
    "\n",
    "age_summary = pd.DataFrame(age_groups_df.count())\n",
    "#age_summary\n",
    "\n",
    "age_summary[\"Purchase ID\"] = (age_summary[\"Purchase ID\"]/total_players)*100\n",
    "#age_summary\n",
    "#age_summary = age_summary.set_index['Purchase ID']\n",
    "age_summary = age_summary[\"Purchase ID\"].map(\"{:,.2f}%\".format)\n",
    "age_summary\n",
    "#clean_age_df = age_groups_df[[\"Purchase ID\",\"SN\"]]\n",
    "#clean_age_df.head()\n",
    "#age_summary_df = clean_age_df.columns(columns={\"Purchase ID\":\"Percentage of Players\", \"SN\":\"Total Count\"})\n",
    "#age_summary_df.head()"
   ]
  },
  {
   "cell_type": "markdown",
   "metadata": {},
   "source": [
    "## Purchasing Analysis (Age)"
   ]
  },
  {
   "cell_type": "markdown",
   "metadata": {},
   "source": [
    "* Bin the purchase_data data frame by age\n",
    "\n",
    "\n",
    "* Run basic calculations to obtain purchase count, avg. purchase price, avg. purchase total per person etc. in the table below\n",
    "\n",
    "\n",
    "* Create a summary data frame to hold the results\n",
    "\n",
    "\n",
    "* Optional: give the displayed data cleaner formatting\n",
    "\n",
    "\n",
    "* Display the summary data frame"
   ]
  },
  {
   "cell_type": "code",
   "execution_count": 7,
   "metadata": {},
   "outputs": [],
   "source": [
    "purchase_count = age_groups_df[\"Age\"].count()\n",
    "#purchases\n",
    "average_purchase = age_groups_df[\"Price\"].mean()\n",
    "#average_purchases\n",
    "total_value = age_groups_df[\"Price\"].sum()\n",
    "#total_value\n",
    "unique_players = purchase_data[\"SN\"].nunique()\n",
    "#unique_players\n",
    "average_per_person = age_groups_df[\"Price\"].sum()/unique_players\n",
    "age_summary_df = pd.DataFrame({\"Purchase count\":purchase_count,\"Average Purchase Price $\":average_purchase,\n",
    "                           \"Total Purchase value $\":total_value,\"Average Purchase Total per person $\":average_per_person})\n",
    "age_summary_df"
   ]
  },
  {
   "cell_type": "markdown",
   "metadata": {},
   "source": [
    "## Top Spenders"
   ]
  },
  {
   "cell_type": "markdown",
   "metadata": {},
   "source": [
    "* Run basic calculations to obtain the results in the table below\n",
    "\n",
    "\n",
    "* Create a summary data frame to hold the results\n",
    "\n",
    "\n",
    "* Sort the total purchase value column in descending order\n",
    "\n",
    "\n",
    "* Optional: give the displayed data cleaner formatting\n",
    "\n",
    "\n",
    "* Display a preview of the summary data frame\n",
    "\n"
   ]
  },
  {
   "cell_type": "code",
   "execution_count": 8,
   "metadata": {},
   "outputs": [],
   "source": [
    "top_spenders = purchase_data.groupby(\"SN\")\n",
    "purchase_count = top_spenders[\"SN\"].count()\n",
    "#top_spenders.head()\n",
    "average_purchase = top_spenders[\"Price\"].mean()\n",
    "total_bought = top_spenders[\"Price\"].sum()\n",
    "whale_df = pd.DataFrame({\"Purchase count\":purchase_count,\"Average Purchase Price\":average_purchase,\"Total Purchase value $\":total_bought})\n",
    "whale_df.sort_values(by=['SN'], inplace=True, ascending=False)\n",
    "whale_df.head()"
   ]
  },
  {
   "cell_type": "markdown",
   "metadata": {},
   "source": [
    "## Most Popular Items"
   ]
  },
  {
   "cell_type": "markdown",
   "metadata": {},
   "source": [
    "* Retrieve the Item ID, Item Name, and Item Price columns\n",
    "\n",
    "\n",
    "* Group by Item ID and Item Name. Perform calculations to obtain purchase count, average item price, and total purchase value\n",
    "\n",
    "\n",
    "* Create a summary data frame to hold the results\n",
    "\n",
    "\n",
    "* Sort the purchase count column in descending order\n",
    "\n",
    "\n",
    "* Optional: give the displayed data cleaner formatting\n",
    "\n",
    "\n",
    "* Display a preview of the summary data frame\n",
    "\n"
   ]
  },
  {
   "cell_type": "code",
   "execution_count": 9,
   "metadata": {},
   "outputs": [],
   "source": [
    "popular_df = purchase_data[[\"Item ID\", \"Item Name\", \"Price\"]]\n",
    "popular_df.groupby([\"Item ID\", \"Item Name\"])"
   ]
  },
  {
   "cell_type": "markdown",
   "metadata": {},
   "source": [
    "## Most Profitable Items"
   ]
  },
  {
   "cell_type": "markdown",
   "metadata": {},
   "source": [
    "* Sort the above table by total purchase value in descending order\n",
    "\n",
    "\n",
    "* Optional: give the displayed data cleaner formatting\n",
    "\n",
    "\n",
    "* Display a preview of the data frame\n",
    "\n"
   ]
  },
  {
   "cell_type": "code",
   "execution_count": null,
   "metadata": {
    "scrolled": true
   },
   "outputs": [],
   "source": []
  }
 ],
 "metadata": {
  "anaconda-cloud": {},
  "kernel_info": {
   "name": "python3"
  },
  "kernelspec": {
   "display_name": "Python 3",
   "language": "python",
   "name": "python3"
  },
  "language_info": {
   "codemirror_mode": {
    "name": "ipython",
    "version": 3
   },
   "file_extension": ".py",
   "mimetype": "text/x-python",
   "name": "python",
   "nbconvert_exporter": "python",
   "pygments_lexer": "ipython3",
   "version": "3.8.3"
  },
  "latex_envs": {
   "LaTeX_envs_menu_present": true,
   "autoclose": false,
   "autocomplete": true,
   "bibliofile": "biblio.bib",
   "cite_by": "apalike",
   "current_citInitial": 1,
   "eqLabelWithNumbers": true,
   "eqNumInitial": 1,
   "hotkeys": {
    "equation": "Ctrl-E",
    "itemize": "Ctrl-I"
   },
   "labels_anchors": false,
   "latex_user_defs": false,
   "report_style_numbering": false,
   "user_envs_cfg": false
  },
  "nteract": {
   "version": "0.2.0"
  }
 },
 "nbformat": 4,
 "nbformat_minor": 2
}
